{
 "cells": [
  {
   "cell_type": "code",
   "execution_count": 1,
   "id": "7de9469d-fee3-4847-ad43-f6ef24cc381c",
   "metadata": {},
   "outputs": [
    {
     "name": "stdout",
     "output_type": "stream",
     "text": [
      "Input Word: I am Venkateswara Reddy\n",
      "Number of Vowels: 8, Number of Consonants: 12\n"
     ]
    }
   ],
   "source": [
    "#Write a program to count the number of vowels and consonants present in an input string.\n",
    "def count_vowels_and_consonants(text):\n",
    "    vowels = \"aeiouAEIOU\"\n",
    "    num_vowels = 0\n",
    "    num_consonants = 0\n",
    "\n",
    "    for character in text:\n",
    "        if character.isalpha():  # Check if the character is a letter\n",
    "            if character in vowels:\n",
    "                num_vowels += 1\n",
    "            else:\n",
    "                num_consonants += 1\n",
    "\n",
    "    return num_vowels, num_consonants\n",
    "\n",
    "# Main execution\n",
    "word = \"I am Venkateswara Reddy\"\n",
    "vowel_count, consonant_count = count_vowels_and_consonants(word)\n",
    "print(f\"Input Word: {word}\")\n",
    "print(f\"Number of Vowels: {vowel_count}, Number of Consonants: {consonant_count}\")\n"
   ]
  },
  {
   "cell_type": "code",
   "execution_count": 3,
   "id": "78217c06-90a6-4620-85d6-39f009f865d1",
   "metadata": {},
   "outputs": [
    {
     "name": "stdout",
     "output_type": "stream",
     "text": [
      "Multiplication of matrices A and B:\n",
      "[19, 22]\n",
      "[43, 50]\n"
     ]
    }
   ],
   "source": [
    "#Write a program that accepts two matrices A and B as input and returns their product AB.\n",
    "#Check if A & B are multipliable; if not, return error message.\n",
    "def multiply_matrices(A, B):\n",
    "    # if matrices A and B can be multiplied\n",
    "    if len(A[0]) != len(B):\n",
    "        return \"Error: Matrices are not multipliable\"\n",
    "\n",
    "    # Initialize the result matrix with zeros\n",
    "    rows_A = len(A)\n",
    "    cols_B = len(B[0])\n",
    "    # Initialize the result matrix with zeros\n",
    "# This matrix will have rows equal to the number of rows in A\n",
    "# and columns equal to the number of columns in B\n",
    "    result = []\n",
    "    for i in range(rows_A):\n",
    "        row = []\n",
    "        for j in range(cols_B):\n",
    "            row.append(0)  # Initialize each element in the row to 0\n",
    "        result.append(row)\n",
    "\n",
    "    # Perform matrix multiplication\n",
    "    for i in range(rows_A):\n",
    "        for j in range(cols_B):\n",
    "            for k in range(len(B)):\n",
    "                result[i][j] += A[i][k] * B[k][j]\n",
    "\n",
    "    return result\n",
    "\n",
    "# Main program\n",
    "\n",
    "A = [[1, 2],\n",
    "     [3, 4]]\n",
    "B = [[5, 6],\n",
    "     [7, 8]]\n",
    "\n",
    "# Calculate the product of A and B\n",
    "product = multiply_matrices(A, B)\n",
    "\n",
    "# Check if the result is an error message or a matrix\n",
    "if isinstance(product, str):\n",
    "    print(product)\n",
    "else:\n",
    "    print(\"Multiplication of matrices A and B:\")\n",
    "    for row in product:\n",
    "        print(row)\n"
   ]
  },
  {
   "cell_type": "code",
   "execution_count": 5,
   "id": "c630033d-fa0f-49c8-b1b8-1ee1c135fe2a",
   "metadata": {},
   "outputs": [
    {
     "name": "stdout",
     "output_type": "stream",
     "text": [
      "Number of common elements: 3\n"
     ]
    }
   ],
   "source": [
    "#Write a program to find the number of common elements between two lists. The lists\n",
    "#contain integers.\n",
    "\n",
    "def countcommonelements(list1, list2):\n",
    "    # Converting both lists to sets to remove duplicates and allow for set operations\n",
    "    set1 = set(list1)\n",
    "    set2 = set(list2)\n",
    "\n",
    "    # Find the intersection of both sets\n",
    "    common_elements = set1.intersection(set2)\n",
    "\n",
    "    # Return the number of common elements\n",
    "    return len(common_elements)\n",
    "\n",
    "# Main program\n",
    "list1 = [1, 2, 3, 4, 5]\n",
    "list2 = [3, 4, 5, 6, 7]\n",
    "\n",
    "common_count = countcommonelements(list1, list2)\n",
    "print(f\"Number of common elements: {common_count}\")\n"
   ]
  },
  {
   "cell_type": "code",
   "execution_count": 13,
   "id": "0e5386a7-5578-4a29-8d11-761758316074",
   "metadata": {},
   "outputs": [
    {
     "name": "stdout",
     "output_type": "stream",
     "text": [
      "[[1, 3, 3], [2, 0, 8]]\n"
     ]
    }
   ],
   "source": [
    "# Program to transpose a matrix using a nested loop\n",
    "\n",
    "X = [[1,2],\n",
    "    [3 ,0],\n",
    "    [3 ,8]]\n",
    "\n",
    "result = [[0,0,0],\n",
    "         [0,0,0]]\n",
    "\n",
    "# iterate through rows\n",
    "for i in range(len(X)):\n",
    "   # iterate through columns\n",
    "   for j in range(len(X[i])):\n",
    "       result[j][i] = X[i][j]\n",
    "\n",
    "\n",
    "print(result)\n"
   ]
  },
  {
   "cell_type": "code",
   "execution_count": null,
   "id": "4515f8c2-47ef-47c5-8014-472aeccb9cc9",
   "metadata": {},
   "outputs": [],
   "source": []
  }
 ],
 "metadata": {
  "kernelspec": {
   "display_name": "Python 3 (ipykernel)",
   "language": "python",
   "name": "python3"
  },
  "language_info": {
   "codemirror_mode": {
    "name": "ipython",
    "version": 3
   },
   "file_extension": ".py",
   "mimetype": "text/x-python",
   "name": "python",
   "nbconvert_exporter": "python",
   "pygments_lexer": "ipython3",
   "version": "3.11.7"
  }
 },
 "nbformat": 4,
 "nbformat_minor": 5
}
