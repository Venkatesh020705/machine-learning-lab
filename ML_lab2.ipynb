{
 "cells": [
  {
   "cell_type": "code",
   "execution_count": 10,
   "id": "ab8180a4-91eb-4625-8cc8-b5426344d71d",
   "metadata": {},
   "outputs": [
    {
     "name": "stdout",
     "output_type": "stream",
     "text": [
      "Data Head:\n",
      "   Customer  Candies (#)  Mangoes (Kg)  Milk Packets (#)  Payment (Rs)  \\\n",
      "0      C_1           20             6                 2           386   \n",
      "1      C_2           16             3                 6           289   \n",
      "2      C_3           27             6                 2           393   \n",
      "3      C_4           19             1                 2           110   \n",
      "4      C_5           24             4                 2           280   \n",
      "\n",
      "   Unnamed: 5  Unnamed: 6  Unnamed: 7  Unnamed: 8  Unnamed: 9  ...  \\\n",
      "0         NaN         NaN         NaN         NaN         NaN  ...   \n",
      "1         NaN         NaN         NaN         NaN         NaN  ...   \n",
      "2         NaN         NaN         NaN         NaN         NaN  ...   \n",
      "3         NaN         NaN         NaN         NaN         NaN  ...   \n",
      "4         NaN         NaN         NaN         NaN         NaN  ...   \n",
      "\n",
      "   Unnamed: 12  Unnamed: 13  Unnamed: 14  Unnamed: 15  Unnamed: 16  \\\n",
      "0          NaN          NaN          NaN          NaN          NaN   \n",
      "1          NaN          NaN          NaN          NaN          NaN   \n",
      "2          NaN          NaN          NaN          NaN          NaN   \n",
      "3          NaN          NaN          NaN          NaN          NaN   \n",
      "4          NaN          NaN          NaN          NaN          NaN   \n",
      "\n",
      "   Unnamed: 17  Unnamed: 18  Candy  Mango  Milk  \n",
      "0          NaN          NaN    1.0   55.0  18.0  \n",
      "1          NaN          NaN    NaN    NaN   NaN  \n",
      "2          NaN          NaN    NaN    NaN   NaN  \n",
      "3          NaN          NaN    NaN    NaN   NaN  \n",
      "4          NaN          NaN    NaN    NaN   NaN  \n",
      "\n",
      "[5 rows x 22 columns]\n",
      "[[20  6  2]\n",
      " [16  3  6]\n",
      " [27  6  2]\n",
      " [19  1  2]\n",
      " [24  4  2]\n",
      " [22  1  5]\n",
      " [15  4  2]\n",
      " [18  4  2]\n",
      " [21  1  4]\n",
      " [16  2  4]]\n",
      "[[386]\n",
      " [289]\n",
      " [393]\n",
      " [110]\n",
      " [280]\n",
      " [167]\n",
      " [271]\n",
      " [274]\n",
      " [148]\n",
      " [198]]\n"
     ]
    }
   ],
   "source": [
    "import pandas as pd\n",
    "import numpy as np\n",
    "file_path = \"C:\\\\Users\\\\venka\\\\Downloads\\\\Lab Session Data.xlsx\"\n",
    "sheet_name = 'Purchase data'\n",
    "data = pd.read_excel(file_path, sheet_name='Purchase data')\n",
    "print(\"Data Head:\\n\", data.head())\n",
    "A_columns = ['Candies (#)', 'Mangoes (Kg)', 'Milk Packets (#)']\n",
    "C_column = 'Payment (Rs)'\n",
    "A = data[A_columns].values\n",
    "C = data[C_column].values.reshape(-1, 1)\n",
    "print(A)\n",
    "print(C)"
   ]
  },
  {
   "cell_type": "code",
   "execution_count": 61,
   "id": "576f07ea-b4e0-41e5-8e21-36f9d8645394",
   "metadata": {},
   "outputs": [
    {
     "name": "stdout",
     "output_type": "stream",
     "text": [
      "Dimensionality of the vector space is: 3\n",
      "Number of vectors in the vector space is: 10\n",
      "Rank of matrix A is: 3\n",
      "Cost of each product:\n",
      "Candies (#): Rs 1.00\n",
      "Mangoes (Kg): Rs 55.00\n",
      "Milk Packets (#): Rs 18.00\n"
     ]
    }
   ],
   "source": [
    "def dimensionality(A):\n",
    "    dim = A.shape[1]\n",
    "    return dim\n",
    "def count_vectors(A):\n",
    "    num_vectors = A.shape[0]\n",
    "    return num_vectors\n",
    "def rank_matrix(A):\n",
    "    rank = np.linalg.matrix_rank(A)\n",
    "    return rank\n",
    "def calculate_costs(A, C):\n",
    "    pseudo_inv_A = np.linalg.pinv(A)\n",
    "    costs = np.dot(pseudo_inv_A, C)\n",
    "    return costs\n",
    "\n",
    "dim = dimensionality(A)\n",
    "num_vectors = count_vectors(A)\n",
    "rank = rank_matrix(A)\n",
    "costs = calculate_costs(A, C)\n",
    "print('Dimensionality of the vector space is:', dim)\n",
    "print('Number of vectors in the vector space is:', num_vectors)\n",
    "print('Rank of matrix A is:', rank)\n",
    "product_names = A_columns\n",
    "cost_dict = {product_names[i]: costs[i][0] for i in range(len(product_names))}\n",
    "print('Cost of each product:')\n",
    "for product, cost in cost_dict.items():\n",
    "    print(f'{product}: Rs {cost:.2f}')"
   ]
  },
  {
   "cell_type": "code",
   "execution_count": 64,
   "id": "257d3ff5-a324-438b-afe7-8336c12ecd3b",
   "metadata": {},
   "outputs": [
    {
     "name": "stdout",
     "output_type": "stream",
     "text": [
      "[[ 1.]\n",
      " [55.]\n",
      " [18.]]\n"
     ]
    }
   ],
   "source": [
    "def calculate_model_vector(A, C):\n",
    "    pseudo_inv_A = np.linalg.pinv(A)\n",
    "    vector = np.dot(pseudo_inv_A, C)\n",
    "    return vector\n",
    "X = calculate_model_vector(A, C)\n",
    "print(X)"
   ]
  },
  {
   "cell_type": "code",
   "execution_count": 78,
   "id": "0d2511aa-bf45-404a-a237-a97a4ea50cc9",
   "metadata": {},
   "outputs": [
    {
     "name": "stdout",
     "output_type": "stream",
     "text": [
      "Data with Class:\n",
      "   Customer  Candies (#)  Mangoes (Kg)  Milk Packets (#)  Payment (Rs)  \\\n",
      "0      C_1           20             6                 2           386   \n",
      "1      C_2           16             3                 6           289   \n",
      "2      C_3           27             6                 2           393   \n",
      "3      C_4           19             1                 2           110   \n",
      "4      C_5           24             4                 2           280   \n",
      "5      C_6           22             1                 5           167   \n",
      "6      C_7           15             4                 2           271   \n",
      "7      C_8           18             4                 2           274   \n",
      "8      C_9           21             1                 4           148   \n",
      "9     C_10           16             2                 4           198   \n",
      "\n",
      "   Unnamed: 5  Unnamed: 6  Unnamed: 7  Unnamed: 8  Unnamed: 9  ...  \\\n",
      "0         NaN         NaN         NaN         NaN         NaN  ...   \n",
      "1         NaN         NaN         NaN         NaN         NaN  ...   \n",
      "2         NaN         NaN         NaN         NaN         NaN  ...   \n",
      "3         NaN         NaN         NaN         NaN         NaN  ...   \n",
      "4         NaN         NaN         NaN         NaN         NaN  ...   \n",
      "5         NaN         NaN         NaN         NaN         NaN  ...   \n",
      "6         NaN         NaN         NaN         NaN         NaN  ...   \n",
      "7         NaN         NaN         NaN         NaN         NaN  ...   \n",
      "8         NaN         NaN         NaN         NaN         NaN  ...   \n",
      "9         NaN         NaN         NaN         NaN         NaN  ...   \n",
      "\n",
      "   Unnamed: 13  Unnamed: 14  Unnamed: 15  Unnamed: 16  Unnamed: 17  \\\n",
      "0          NaN          NaN          NaN          NaN          NaN   \n",
      "1          NaN          NaN          NaN          NaN          NaN   \n",
      "2          NaN          NaN          NaN          NaN          NaN   \n",
      "3          NaN          NaN          NaN          NaN          NaN   \n",
      "4          NaN          NaN          NaN          NaN          NaN   \n",
      "5          NaN          NaN          NaN          NaN          NaN   \n",
      "6          NaN          NaN          NaN          NaN          NaN   \n",
      "7          NaN          NaN          NaN          NaN          NaN   \n",
      "8          NaN          NaN          NaN          NaN          NaN   \n",
      "9          NaN          NaN          NaN          NaN          NaN   \n",
      "\n",
      "   Unnamed: 18  Candy  Mango  Milk  Class  \n",
      "0          NaN    1.0   55.0  18.0   RICH  \n",
      "1          NaN    NaN    NaN   NaN   RICH  \n",
      "2          NaN    NaN    NaN   NaN   RICH  \n",
      "3          NaN    NaN    NaN   NaN   POOR  \n",
      "4          NaN    NaN    NaN   NaN   RICH  \n",
      "5          NaN    NaN    NaN   NaN   POOR  \n",
      "6          NaN    NaN    NaN   NaN   RICH  \n",
      "7          NaN    NaN    NaN   NaN   RICH  \n",
      "8          NaN    NaN    NaN   NaN   POOR  \n",
      "9          NaN    NaN    NaN   NaN   POOR  \n",
      "\n",
      "[10 rows x 23 columns]\n"
     ]
    }
   ],
   "source": [
    "data['Class'] = data['Payment (Rs)'].apply(lambda x: 'RICH' if x > 200 else 'POOR')\n",
    "print(\"Data with Class:\\n\", data.head(10))"
   ]
  },
  {
   "cell_type": "code",
   "execution_count": 12,
   "id": "d974e462-0d83-4161-a66a-e72fafa5390c",
   "metadata": {},
   "outputs": [],
   "source": [
    "file_path = \"C:\\\\Users\\\\venka\\\\Downloads\\\\Lab Session Data.xlsx\"\n",
    "irctc_data = pd.read_excel(file_path, sheet_name='IRCTC Stock Price')"
   ]
  },
  {
   "cell_type": "code",
   "execution_count": 112,
   "id": "e3b02e1a-1601-4fcd-8b20-7b091cfed236",
   "metadata": {},
   "outputs": [
    {
     "name": "stdout",
     "output_type": "stream",
     "text": [
      "mean of price is: 1560.6634538152612\n",
      "variance of price is: 58732.36535253922\n"
     ]
    }
   ],
   "source": [
    "price_data=irctc_data.iloc[:,3]\n",
    "mean =price_data.mean()\n",
    "variance=price_data.var()\n",
    "print(\"mean of price is:\",mean)\n",
    "print(\"variance of price is:\",variance)"
   ]
  },
  {
   "cell_type": "code",
   "execution_count": 14,
   "id": "cb8c30a4-72b3-405d-b286-fa884d1cb203",
   "metadata": {},
   "outputs": [
    {
     "name": "stdout",
     "output_type": "stream",
     "text": [
      "mean of price wednesday is: 1550.7060000000001\n"
     ]
    }
   ],
   "source": [
    "wednesday_data = irctc_data[irctc_data['Day'] == 'Wed']\n",
    "mean_wednesday = wednesday_data['Price'].mean()\n",
    "print(\"mean of price wednesday is:\",mean_wednesday)"
   ]
  },
  {
   "cell_type": "code",
   "execution_count": 126,
   "id": "106aba27-23af-48a7-b86c-fed0ffe3782a",
   "metadata": {},
   "outputs": [
    {
     "name": "stdout",
     "output_type": "stream",
     "text": [
      "mean of april month price  is: 1698.9526315789474\n"
     ]
    }
   ],
   "source": [
    "april_data = irctc_data[irctc_data['Month']=='Apr']\n",
    "mean_april = april_data['Price'].mean()\n",
    "print(\"mean of april month price  is:\",mean_april)"
   ]
  },
  {
   "cell_type": "code",
   "execution_count": 18,
   "id": "dc4219cf-e9a2-47b6-8437-ac145ccd1fe6",
   "metadata": {},
   "outputs": [
    {
     "name": "stdout",
     "output_type": "stream",
     "text": [
      "The probability of loss is: 0.4979919678714859\n",
      "The probability of profit on wednesday is: 0.42\n",
      "The conditonal probability of profit on wednesday is: 0.0002708443766903591\n"
     ]
    }
   ],
   "source": [
    "prob_loss = irctc_data['Chg%'].apply(lambda x: x < 0).mean()\n",
    "prob_profit_wednesday = wednesday_data['Chg%'].apply(lambda x: x > 0).mean()\n",
    "prob_conditional_profit_wednesday = prob_profit_wednesday / mean_wednesday\n",
    "print(\"The probability of loss is:\",prob_loss)\n",
    "print(\"The probability of profit on wednesday is:\",prob_profit_wednesday)\n",
    "print(\"The conditonal probability of profit on wednesday is:\",prob_conditional_profit_wednesday)"
   ]
  }
 ],
 "metadata": {
  "kernelspec": {
   "display_name": "Python 3 (ipykernel)",
   "language": "python",
   "name": "python3"
  },
  "language_info": {
   "codemirror_mode": {
    "name": "ipython",
    "version": 3
   },
   "file_extension": ".py",
   "mimetype": "text/x-python",
   "name": "python",
   "nbconvert_exporter": "python",
   "pygments_lexer": "ipython3",
   "version": "3.11.7"
  }
 },
 "nbformat": 4,
 "nbformat_minor": 5
}
